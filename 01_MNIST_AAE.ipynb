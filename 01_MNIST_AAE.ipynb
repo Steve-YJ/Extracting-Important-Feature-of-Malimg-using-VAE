{
  "nbformat": 4,
  "nbformat_minor": 0,
  "metadata": {
    "colab": {
      "name": "01. MNIST_AAE.ipynb",
      "provenance": [],
      "authorship_tag": "ABX9TyOP71Aj8v1kuE1lUQiO2fWL",
      "include_colab_link": true
    },
    "kernelspec": {
      "name": "python3",
      "display_name": "Python 3"
    }
  },
  "cells": [
    {
      "cell_type": "markdown",
      "metadata": {
        "id": "view-in-github",
        "colab_type": "text"
      },
      "source": [
        "<a href=\"https://colab.research.google.com/github/Steve-YJ/Extracting-Important-Feature-of-Malimg-using-VAE/blob/master/01_MNIST_AAE.ipynb\" target=\"_parent\"><img src=\"https://colab.research.google.com/assets/colab-badge.svg\" alt=\"Open In Colab\"/></a>"
      ]
    },
    {
      "cell_type": "markdown",
      "metadata": {
        "id": "sFUH7VEp5Bz3",
        "colab_type": "text"
      },
      "source": [
        "## Reference\n",
        "* god....!: https://github.com/eriklindernoren/PyTorch-GAN/blob/master/implementations/aae/aae.py\n",
        "\n",
        "### What I want to do\n",
        "* run AAE \n",
        "* practicing train\n",
        "\n",
        "* from 20.07.15.wed<br>\n",
        "* prace & make my own work flow<br>\n",
        "    * continue: https://github.com/Steve-YJ/Colab_Exercise/blob/master/Again_Training_Exp05_Just_20Epochs.ipynb"
      ]
    },
    {
      "cell_type": "markdown",
      "metadata": {
        "id": "2fS38MY-58P9",
        "colab_type": "text"
      },
      "source": [
        "## 00. Mount Drive\n",
        "\n",
        "* If you use colab, first mount driver"
      ]
    },
    {
      "cell_type": "code",
      "metadata": {
        "id": "rKjLf6sh4fkW",
        "colab_type": "code",
        "colab": {}
      },
      "source": [
        ""
      ],
      "execution_count": null,
      "outputs": []
    },
    {
      "cell_type": "code",
      "metadata": {
        "id": "t13_t5qH6DPj",
        "colab_type": "code",
        "colab": {}
      },
      "source": [
        ""
      ],
      "execution_count": null,
      "outputs": []
    },
    {
      "cell_type": "code",
      "metadata": {
        "id": "PGPG-pJo6DSE",
        "colab_type": "code",
        "colab": {}
      },
      "source": [
        ""
      ],
      "execution_count": null,
      "outputs": []
    },
    {
      "cell_type": "markdown",
      "metadata": {
        "id": "zo9M83Ix6D3g",
        "colab_type": "text"
      },
      "source": [
        "## 01. Library Import"
      ]
    },
    {
      "cell_type": "code",
      "metadata": {
        "id": "n3BsDGHI6DUl",
        "colab_type": "code",
        "colab": {}
      },
      "source": [
        ""
      ],
      "execution_count": null,
      "outputs": []
    },
    {
      "cell_type": "code",
      "metadata": {
        "id": "JlTLvJ0u6GT0",
        "colab_type": "code",
        "colab": {}
      },
      "source": [
        ""
      ],
      "execution_count": null,
      "outputs": []
    },
    {
      "cell_type": "markdown",
      "metadata": {
        "id": "JaUKfNkO6Hfm",
        "colab_type": "text"
      },
      "source": [
        "## 02. Data Preprocessing\n",
        "* Load dataset\n",
        "* preprocess it\n",
        "    * transforms\n",
        "    * make custom dataset\n",
        "    * train_test split\n",
        "    * make train loader, test loader\n",
        "\n",
        "* work Flow\n",
        "    * transforms module 사용해서 image data compose\n",
        "        * size 조정 및 normalize, tensor 변환\n",
        "        * Image Folder를 이용해 dataload\n",
        "        * dataset split: train dataset, test dataset\n",
        "        * DataLoader로 batch단위 dataset 불러오기"
      ]
    },
    {
      "cell_type": "code",
      "metadata": {
        "id": "81yyEjRl6GWV",
        "colab_type": "code",
        "colab": {}
      },
      "source": [
        ""
      ],
      "execution_count": 1,
      "outputs": []
    },
    {
      "cell_type": "code",
      "metadata": {
        "id": "Z2PZe8dT6PRO",
        "colab_type": "code",
        "colab": {}
      },
      "source": [
        ""
      ],
      "execution_count": null,
      "outputs": []
    },
    {
      "cell_type": "code",
      "metadata": {
        "id": "tgX0uDqS6Ro1",
        "colab_type": "code",
        "colab": {}
      },
      "source": [
        ""
      ],
      "execution_count": null,
      "outputs": []
    },
    {
      "cell_type": "code",
      "metadata": {
        "id": "9Dkf5_cM6Rmw",
        "colab_type": "code",
        "colab": {}
      },
      "source": [
        ""
      ],
      "execution_count": null,
      "outputs": []
    },
    {
      "cell_type": "code",
      "metadata": {
        "id": "ZwPrrXMZ6RhZ",
        "colab_type": "code",
        "colab": {}
      },
      "source": [
        ""
      ],
      "execution_count": null,
      "outputs": []
    },
    {
      "cell_type": "markdown",
      "metadata": {
        "id": "OOzcPwFi6R5b",
        "colab_type": "text"
      },
      "source": [
        "# 03. Define Adversarial Variational AutoEncoder Class\n",
        "\n",
        "* Encoder Class\n",
        "* Decoder Class\n",
        "* Discriminator Class"
      ]
    },
    {
      "cell_type": "code",
      "metadata": {
        "id": "R3uDND6p6Vf2",
        "colab_type": "code",
        "colab": {}
      },
      "source": [
        ""
      ],
      "execution_count": 1,
      "outputs": []
    },
    {
      "cell_type": "markdown",
      "metadata": {
        "id": "Tqbb-ZkS7d9x",
        "colab_type": "text"
      },
      "source": [
        "## 04. Training"
      ]
    },
    {
      "cell_type": "code",
      "metadata": {
        "id": "QXszRozK6V8w",
        "colab_type": "code",
        "colab": {}
      },
      "source": [
        ""
      ],
      "execution_count": 1,
      "outputs": []
    },
    {
      "cell_type": "code",
      "metadata": {
        "id": "H4Yk-d6Z6V_S",
        "colab_type": "code",
        "colab": {}
      },
      "source": [
        ""
      ],
      "execution_count": 1,
      "outputs": []
    },
    {
      "cell_type": "code",
      "metadata": {
        "id": "S1iC9n0v6WA7",
        "colab_type": "code",
        "colab": {}
      },
      "source": [
        ""
      ],
      "execution_count": null,
      "outputs": []
    }
  ]
}